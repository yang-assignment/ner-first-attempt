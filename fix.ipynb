{
 "cells": [
  {
   "cell_type": "code",
   "execution_count": 3,
   "id": "3f6ddd5c",
   "metadata": {},
   "outputs": [],
   "source": [
    "from pathlib import Path\n",
    "import re\n",
    "\n",
    "file_path = Path(\"g.txt\")\n",
    "raw_text = file_path.read_text(encoding='utf-8').strip()\n",
    "raw_text = re.sub(r'\\n\\n', \"\\n\", raw_text)\n",
    "\n",
    "with open('a.txt', 'w') as f:\n",
    "    f.write(raw_text)"
   ]
  },
  {
   "cell_type": "code",
   "execution_count": null,
   "id": "7455085e",
   "metadata": {},
   "outputs": [],
   "source": []
  }
 ],
 "metadata": {
  "kernelspec": {
   "display_name": "Python 3 (ipykernel)",
   "language": "python",
   "name": "python3"
  },
  "language_info": {
   "codemirror_mode": {
    "name": "ipython",
    "version": 3
   },
   "file_extension": ".py",
   "mimetype": "text/x-python",
   "name": "python",
   "nbconvert_exporter": "python",
   "pygments_lexer": "ipython3",
   "version": "3.8.12"
  }
 },
 "nbformat": 4,
 "nbformat_minor": 5
}
